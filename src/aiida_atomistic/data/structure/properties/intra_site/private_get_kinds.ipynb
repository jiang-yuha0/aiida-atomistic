{
 "cells": [
  {
   "cell_type": "markdown",
   "metadata": {},
   "source": [
    "# Generating the kinds.\n",
    "\n",
    "In principle I want something which is not calling `self.properties`, otherwise I have a recursion error."
   ]
  },
  {
   "cell_type": "code",
   "execution_count": null,
   "metadata": {},
   "outputs": [],
   "source": [
    "def to_kinds(properties, property_name = None ,thr: float = None):\n",
    "    \"\"\"Get the kinds for a generic intra-site property. Can also be overridden in the specific property.\n",
    "\n",
    "    ### Search algorithm:\n",
    "\n",
    "    Basically we compute the indexes array which locates each point in regions centered on our values, considering\n",
    "    min(values) as reference and each region being of width=thr:\n",
    "    \n",
    "        indexes = np.array((prop_array-np.min(prop_array))/thr,dtype=int)\n",
    "    \n",
    "    To understand this, try to draw the problem considering prop_array=[1,2,3,4] and thr=0.5.\n",
    "    This methods allows to efficiently clusterize the point using the defined threshold.\n",
    "    \n",
    "    At the end, we reorder the kinds from zero (to have ordered list like Li0, Li1...).\n",
    "    Basically we define the set of unordered kinds, and the range(len(set(kinds))) being the group of orderd kinds.\n",
    "    Then we basically do a mapping with the np.where().\n",
    "    \n",
    "    Args:\n",
    "        thr (float, optional): the threshold to consider two atoms of the same element to be the same kind. \n",
    "            Defaults to structure.properties.<property>.default_kind_threshold.\n",
    "            If thr==0, we just return different kind for each site with the original property value. This is \n",
    "            needed when we have tags for each site, in the get_kind method of StructureData.\n",
    "        \n",
    "    Returns:\n",
    "        kinds_labels: array of kinds (as integers) associated to the charge property. they are integers so that in the `get_kinds()` method\n",
    "                        can be used in the matrix representation (the k.T).\n",
    "        kinds_values: list of the associated property value to each kind detected.\n",
    "    \"\"\" \n",
    "    \n",
    "    assert property_name in properties.keys()\n",
    "    \n",
    "    symbols_array = np.array(properties['symbols']['value'])\n",
    "    prop_array = np.array(properties[property_name]['value'])\n",
    "    \n",
    "    if not thr: \n",
    "        thr = self.default_kind_threshold\n",
    "    elif thr == 0:\n",
    "        return np.array(range(len(prop_array))), prop_array\n",
    "    \n",
    "    # list for the value of the property for each generated kind.\n",
    "    kinds_values = np.zeros(len(symbols_array))\n",
    "    indexes = np.array((prop_array-np.min(prop_array))/thr,dtype=int)\n",
    "    \n",
    "    # Here we select the closest value present in the property values\n",
    "    set_indexes = set(indexes)\n",
    "    for index in set_indexes:\n",
    "        where_index_in_indexes = np.where(indexes == index)[0]\n",
    "        kinds_values[where_index_in_indexes] = np.min(prop_array[where_index_in_indexes])\n",
    "    \n",
    "    # here we reorder from zero the kinds.\n",
    "    list_set_indexes = list(set_indexes)\n",
    "    kinds_labels = np.zeros(len(symbols_array),dtype=int)\n",
    "    for i in range(len(list_set_indexes)):\n",
    "        kinds_labels[np.where(indexes==list_set_indexes[i])[0]] = i\n",
    "    \n",
    "    return kinds_labels, kinds_values\n"
   ]
  },
  {
   "cell_type": "code",
   "execution_count": null,
   "metadata": {},
   "outputs": [],
   "source": []
  }
 ],
 "metadata": {
  "kernelspec": {
   "display_name": "atomistic",
   "language": "python",
   "name": "python3"
  },
  "language_info": {
   "name": "python",
   "version": "3.12.2"
  }
 },
 "nbformat": 4,
 "nbformat_minor": 2
}
