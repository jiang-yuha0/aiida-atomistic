{
 "cells": [
  {
   "cell_type": "markdown",
   "metadata": {},
   "source": [
    "# Check that all the properties are consistent with the Kinds definition\n",
    "\n",
    "- a way to group properties, and check if they are the same. \n",
    "\n",
    "an algorithm similar to the one used in the get_kinds, putting a threshold which is low. For now for scalar quantities...\n",
    "Use the get_kinds with a zero threshold? in this way you find the properties which are different... or better, the number of different kinds.\n",
    "\n",
    "Basically the algorithm is inside the get_kinds, which if I provide kind_tags, try to compute kinds with thr=0 and see if the mapping is the same. \n",
    "If it is the same, I should also not change any property values, but this I think is ok as we have thr=0 (maybe add a 1e-10).\n",
    "\n",
    "**Main problem**: the recursion which I encounter when I try to access the `get_kinds()` from the Kinds property validation step.\n",
    "\n",
    "When this works, put the custom threshold in the input of a given property. \n",
    "\n",
    "**However, I do not know if I want really to always set the kinds... or not?**\n",
    "\n",
    "I do not know, because the user then will see the property values change.\n",
    "\n",
    "RULE: Can also be not defined. In that case, the plugin will use the get_kinds() method to have the list of kinds to use. and there will be a snipper of code which generate a new SDATA,\n",
    "        like `new_structure = StructureData.generate_with_kinds(old_structure)` which use the get_kinds...\n",
    "\n",
    "\n",
    "\n",
    "Tests:\n",
    "\n",
    "get_kinds works well for properties equal and thr = 0.\n"
   ]
  },
  {
   "cell_type": "code",
   "execution_count": 1,
   "metadata": {},
   "outputs": [],
   "source": [
    "from aiida import orm, load_profile\n",
    "load_profile()\n",
    "\n",
    "from aiida_atomistic.data.structure import StructureData"
   ]
  },
  {
   "cell_type": "markdown",
   "metadata": {},
   "source": [
    "where the value of each defined property is defined under the corresponding dictionary, under the key `value`. \n"
   ]
  },
  {
   "cell_type": "markdown",
   "metadata": {},
   "source": [
    "### (1) not providing kinds\n",
    "\n",
    "we then need to use the get_kinds"
   ]
  },
  {
   "cell_type": "code",
   "execution_count": 2,
   "metadata": {},
   "outputs": [
    {
     "name": "stdout",
     "output_type": "stream",
     "text": [
      "Kinds:  (['Li0', 'Li1'], {'mass': {'value': [6.941, 6.941]}, 'charge': {'value': [0.0, 1.0]}})\n",
      "Using the get_kinds to generate a new structure...\n",
      "...done.\n",
      "Kinds:  ['Li0', 'Li1']\n",
      "cell [[3.5, 0.0, 0.0], [0.0, 3.5, 0.0], [0.0, 0.0, 3.5]]\n",
      "mass [6.941, 6.941]\n",
      "positions [[0.0, 0.0, 0.0], [1.5, 1.5, 1.5]]\n",
      "kinds ['Li0', 'Li1']\n",
      "pbc [True, True, True]\n",
      "charge [0.0, 1.0]\n",
      "symbols ['Li', 'Li']\n"
     ]
    }
   ],
   "source": [
    "unit_cell = [[3.5, 0.0, 0.0], [0.0, 3.5, 0.0], [0.0, 0.0, 3.5]]\n",
    "atomic_positions = [[0.0, 0.0, 0.0],[1.5, 1.5, 1.5]]\n",
    "symbols = [\"Li\"]*2\n",
    "mass = [6.941,6.941]\n",
    "charge = [0,1]\n",
    "kinds = [\"Li\"]*2\n",
    "\n",
    "properties = {\n",
    "    \"cell\":{\"value\":unit_cell},\n",
    "    \"pbc\":{\"value\":[True,True,True]},\n",
    "    \"positions\":{\"value\":atomic_positions,},\n",
    "    \"symbols\":{\"value\":symbols},\n",
    "    \"mass\":{\"value\":mass,},\n",
    "    \"charge\":{\"value\":charge},\n",
    "    #\"kinds\":{\"value\":kinds}\n",
    "    }\n",
    "\n",
    "structure = StructureData(\n",
    "        properties=properties\n",
    "        )\n",
    "\n",
    "kinds = structure.get_kinds()\n",
    "\n",
    "print(\"Kinds: \", kinds)\n",
    "\n",
    "print(\"Using the get_kinds to generate a new structure...\")\n",
    "\n",
    "properties.update(kinds[1]) \n",
    "properties[\"kinds\"] = {\"value\":kinds[0]}\n",
    "\n",
    "new_structure = StructureData(properties=properties)\n",
    "print(\"...done.\")\n",
    "print(\"Kinds: \", new_structure.properties.kinds.value)\n",
    "for i in new_structure.properties.get_stored_properties():\n",
    "    print(i, new_structure.properties.get_property_attribute(i)['value'])"
   ]
  },
  {
   "cell_type": "markdown",
   "metadata": {},
   "source": [
    "### (2) providing kinds\n",
    "\n",
    "#### (2.1) wrong kinds"
   ]
  },
  {
   "cell_type": "code",
   "execution_count": 3,
   "metadata": {},
   "outputs": [
    {
     "ename": "ValueError",
     "evalue": "The kinds you provided in the `kind_tags` input are not correct, as properties values are not consistent with them. Please check that this is what you want.",
     "output_type": "error",
     "traceback": [
      "\u001b[0;31m---------------------------------------------------------------------------\u001b[0m",
      "\u001b[0;31mValueError\u001b[0m                                Traceback (most recent call last)",
      "Cell \u001b[0;32mIn[3], line 18\u001b[0m\n\u001b[1;32m      6\u001b[0m kinds \u001b[38;5;241m=\u001b[39m [\u001b[38;5;124m\"\u001b[39m\u001b[38;5;124mLi\u001b[39m\u001b[38;5;124m\"\u001b[39m]\u001b[38;5;241m*\u001b[39m\u001b[38;5;241m2\u001b[39m\n\u001b[1;32m      8\u001b[0m properties \u001b[38;5;241m=\u001b[39m {\n\u001b[1;32m      9\u001b[0m     \u001b[38;5;124m\"\u001b[39m\u001b[38;5;124mcell\u001b[39m\u001b[38;5;124m\"\u001b[39m:{\u001b[38;5;124m\"\u001b[39m\u001b[38;5;124mvalue\u001b[39m\u001b[38;5;124m\"\u001b[39m:unit_cell},\n\u001b[1;32m     10\u001b[0m     \u001b[38;5;124m\"\u001b[39m\u001b[38;5;124mpbc\u001b[39m\u001b[38;5;124m\"\u001b[39m:{\u001b[38;5;124m\"\u001b[39m\u001b[38;5;124mvalue\u001b[39m\u001b[38;5;124m\"\u001b[39m:[\u001b[38;5;28;01mTrue\u001b[39;00m,\u001b[38;5;28;01mTrue\u001b[39;00m,\u001b[38;5;28;01mTrue\u001b[39;00m]},\n\u001b[0;32m   (...)\u001b[0m\n\u001b[1;32m     15\u001b[0m     \u001b[38;5;124m\"\u001b[39m\u001b[38;5;124mkinds\u001b[39m\u001b[38;5;124m\"\u001b[39m:{\u001b[38;5;124m\"\u001b[39m\u001b[38;5;124mvalue\u001b[39m\u001b[38;5;124m\"\u001b[39m:kinds}\n\u001b[1;32m     16\u001b[0m     }\n\u001b[0;32m---> 18\u001b[0m structure \u001b[38;5;241m=\u001b[39m \u001b[43mStructureData\u001b[49m\u001b[43m(\u001b[49m\n\u001b[1;32m     19\u001b[0m \u001b[43m        \u001b[49m\u001b[43mproperties\u001b[49m\u001b[38;5;241;43m=\u001b[39;49m\u001b[43mproperties\u001b[49m\n\u001b[1;32m     20\u001b[0m \u001b[43m        \u001b[49m\u001b[43m)\u001b[49m\n\u001b[1;32m     22\u001b[0m \u001b[38;5;28;01mfor\u001b[39;00m i \u001b[38;5;129;01min\u001b[39;00m new_structure\u001b[38;5;241m.\u001b[39mproperties\u001b[38;5;241m.\u001b[39mget_stored_properties():\n\u001b[1;32m     23\u001b[0m     \u001b[38;5;28mprint\u001b[39m(i, new_structure\u001b[38;5;241m.\u001b[39mproperties\u001b[38;5;241m.\u001b[39mget_property_attribute(i)[\u001b[38;5;124m'\u001b[39m\u001b[38;5;124mvalue\u001b[39m\u001b[38;5;124m'\u001b[39m])\n",
      "File \u001b[0;32m~/project/atomistic/plugins/aiida-atomistic/src/aiida_atomistic/data/structure/__init__.py:768\u001b[0m, in \u001b[0;36mStructureData.__init__\u001b[0;34m(self, properties, ase, pymatgen, pymatgen_structure, pymatgen_molecule, **kwargs)\u001b[0m\n\u001b[1;32m    765\u001b[0m     \u001b[38;5;28mself\u001b[39m\u001b[38;5;241m.\u001b[39m_properties \u001b[38;5;241m=\u001b[39m PropertyCollector(parent\u001b[38;5;241m=\u001b[39m\u001b[38;5;28mself\u001b[39m, properties\u001b[38;5;241m=\u001b[39mproperties)\n\u001b[1;32m    767\u001b[0m \u001b[38;5;66;03m# Final get_kinds() check - this is a bad way to do it, but it works\u001b[39;00m\n\u001b[0;32m--> 768\u001b[0m \u001b[38;5;28;01mif\u001b[39;00m \u001b[38;5;124m\"\u001b[39m\u001b[38;5;124mkinds\u001b[39m\u001b[38;5;124m\"\u001b[39m \u001b[38;5;129;01min\u001b[39;00m properties: \u001b[38;5;28;43mself\u001b[39;49m\u001b[38;5;241;43m.\u001b[39;49m\u001b[43mget_kinds\u001b[49m\u001b[43m(\u001b[49m\u001b[43mkind_tags\u001b[49m\u001b[38;5;241;43m=\u001b[39;49m\u001b[38;5;28;43mself\u001b[39;49m\u001b[38;5;241;43m.\u001b[39;49m\u001b[43mproperties\u001b[49m\u001b[38;5;241;43m.\u001b[39;49m\u001b[43mkinds\u001b[49m\u001b[38;5;241;43m.\u001b[39;49m\u001b[43mvalue\u001b[49m\u001b[43m)\u001b[49m\n",
      "File \u001b[0;32m~/project/atomistic/plugins/aiida-atomistic/src/aiida_atomistic/data/structure/__init__.py:920\u001b[0m, in \u001b[0;36mStructureData.get_kinds\u001b[0;34m(self, kind_tags, exclude, custom_thr)\u001b[0m\n\u001b[1;32m    918\u001b[0m \u001b[38;5;66;03m# Step 4: check on the kind_tags consistency with the properties value.\u001b[39;00m\n\u001b[1;32m    919\u001b[0m \u001b[38;5;28;01mif\u001b[39;00m check_kinds \u001b[38;5;129;01mand\u001b[39;00m \u001b[38;5;129;01mnot\u001b[39;00m np\u001b[38;5;241m.\u001b[39marray_equal(check_array, array_tags):\n\u001b[0;32m--> 920\u001b[0m     \u001b[38;5;28;01mraise\u001b[39;00m \u001b[38;5;167;01mValueError\u001b[39;00m (\u001b[38;5;124mf\u001b[39m\u001b[38;5;124m\"\u001b[39m\u001b[38;5;124mThe kinds you provided in the `kind_tags` input are not correct, as properties values are not consistent with them. Please check that this is what you want.\u001b[39m\u001b[38;5;124m\"\u001b[39m)\n\u001b[1;32m    922\u001b[0m \u001b[38;5;28;01mreturn\u001b[39;00m kind_names,kind_values\n",
      "\u001b[0;31mValueError\u001b[0m: The kinds you provided in the `kind_tags` input are not correct, as properties values are not consistent with them. Please check that this is what you want."
     ]
    }
   ],
   "source": [
    "unit_cell = [[3.5, 0.0, 0.0], [0.0, 3.5, 0.0], [0.0, 0.0, 3.5]]\n",
    "atomic_positions = [[0.0, 0.0, 0.0],[1.5, 1.5, 1.5]]\n",
    "symbols = [\"Li\"]*2\n",
    "mass = [6.941,6.941]\n",
    "charge = [0,1]\n",
    "kinds = [\"Li\"]*2 # Wrong, for the charge we provided, which should give rise to two different kinds.\n",
    "\n",
    "properties = {\n",
    "    \"cell\":{\"value\":unit_cell},\n",
    "    \"pbc\":{\"value\":[True,True,True]},\n",
    "    \"positions\":{\"value\":atomic_positions,},\n",
    "    \"symbols\":{\"value\":symbols},\n",
    "    \"mass\":{\"value\":mass,},\n",
    "    \"charge\":{\"value\":charge},\n",
    "    \"kinds\":{\"value\":kinds}\n",
    "    }\n",
    "\n",
    "structure = StructureData(\n",
    "        properties=properties\n",
    "        )\n",
    "\n",
    "for i in new_structure.properties.get_stored_properties():\n",
    "    print(i, new_structure.properties.get_property_attribute(i)['value'])"
   ]
  },
  {
   "cell_type": "markdown",
   "metadata": {},
   "source": [
    "#### (2.1) correct kinds"
   ]
  },
  {
   "cell_type": "code",
   "execution_count": 6,
   "metadata": {},
   "outputs": [
    {
     "name": "stdout",
     "output_type": "stream",
     "text": [
      "cell [[3.5, 0.0, 0.0], [0.0, 3.5, 0.0], [0.0, 0.0, 3.5]]\n",
      "mass [6.941, 6.941]\n",
      "positions [[0.0, 0.0, 0.0], [1.5, 1.5, 1.5]]\n",
      "kinds ['Li', 'Li1']\n",
      "pbc [True, True, True]\n",
      "charge [0, 1]\n",
      "symbols ['Li', 'Li']\n"
     ]
    }
   ],
   "source": [
    "unit_cell = [[3.5, 0.0, 0.0], [0.0, 3.5, 0.0], [0.0, 0.0, 3.5]]\n",
    "atomic_positions = [[0.0, 0.0, 0.0],[1.5, 1.5, 1.5]]\n",
    "symbols = [\"Li\"]*2\n",
    "mass = [6.941,6.941]\n",
    "charge = [0,1]\n",
    "kinds = [\"Li\",\"Li1\"]\n",
    "\n",
    "properties = {\n",
    "    \"cell\":{\"value\":unit_cell},\n",
    "    \"pbc\":{\"value\":[True,True,True]},\n",
    "    \"positions\":{\"value\":atomic_positions,},\n",
    "    \"symbols\":{\"value\":symbols},\n",
    "    \"mass\":{\"value\":mass,},\n",
    "    \"charge\":{\"value\":charge},\n",
    "    \"kinds\":{\"value\":kinds}\n",
    "    }\n",
    "\n",
    "structure = StructureData(\n",
    "        properties=properties\n",
    "        )\n",
    "\n",
    "for i in structure.properties.get_stored_properties():\n",
    "    print(i, structure.properties.get_property_attribute(i)['value'])"
   ]
  }
 ],
 "metadata": {
  "kernelspec": {
   "display_name": "aiida-muonic",
   "language": "python",
   "name": "python3"
  },
  "language_info": {
   "codemirror_mode": {
    "name": "ipython",
    "version": 3
   },
   "file_extension": ".py",
   "mimetype": "text/x-python",
   "name": "python",
   "nbconvert_exporter": "python",
   "pygments_lexer": "ipython3",
   "version": "3.12.2"
  }
 },
 "nbformat": 4,
 "nbformat_minor": 2
}
