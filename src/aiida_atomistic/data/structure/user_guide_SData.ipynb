{
 "cells": [
  {
   "cell_type": "markdown",
   "metadata": {},
   "source": [
    "# User guide on the StructureData class\n",
    "\n",
    "The atomistic `StructureData` class is basically an enhanced version of the `orm.StructureData`, which was implemented in `aiida-core`. \n",
    "Relevant changes are:\n",
    "- introduction of the `properties` attribute, used to store all the properties associated to the crystal structure;\n",
    "- dropped the kind-based definition of the atoms, *no more supported* in favour of a code-agnostic site-based definition of the properties;\n",
    "- the StructureData node is now really a *data container*, meaning that we do not have methods to modify it after its creation, i.e. it is *immutable* even before we store the node in the AiiDA database; \n",
    "explanation on this decisions can be found in the following.\n",
    "\n",
    "\n",
    "<div style=\"border:2px solid #f7d117; padding: 10px; margin: 10px 0;\">\n",
    "    <strong>Site-based definition of properties:</strong> this simplifies multiple properties defintion and respect the philosophy of a code-agnostic data for the structure. The kinds determination can be done using the built-in `get_kinds()` method of the StructureData. It is also possible to provide a user-defined set of kinds via *tags*.\n",
    "</div>\n",
    "\n",
    "## Properties\n",
    "Properties are divided in three main domains:  *global*, *intra-site*, and *inter-site*, e.g.:\n",
    "\n",
    "global:\n",
    "  - cell\n",
    "  - periodic boundary conditions (PBC)\n",
    "\n",
    "intra-site:\n",
    "  - positions\n",
    "  - symbols \n",
    "  - masses\n",
    "  - electronic charge\n",
    "  - magnetization - TOBE added\n",
    "  - Hubbard U parameters - TOBE added\n",
    "\n",
    "inter-site:\n",
    "  - Hubbard V parameters - TOBE added \n",
    "\n",
    "Some of these properties are related to the sites/atoms (e.g. atomic positions, symbols, electronic charge) and some are related to the whole structure (e.g. PBC, cell). So, each property will have an attribute `domain`, which can be \"intra-site\", \"inter-site\", \"global\". \n",
    "\n",
    "## Custom properties\n",
    "The possibility to have user defined custom properties is discussed in another section (TOBE ADDED)."
   ]
  },
  {
   "cell_type": "markdown",
   "metadata": {},
   "source": [
    "## The first StructureData instance\n",
    "One of the principle of the new StructureData is the fact that it is \"just\" a container of the information about a given structure: this means that, after that instances of this class are immutable. After the initialization, it is not possible to change the stored properties.\n",
    "\n",
    "Properties should be contained in a dictionary:"
   ]
  },
  {
   "cell_type": "code",
   "execution_count": 1,
   "metadata": {},
   "outputs": [],
   "source": [
    "from aiida import orm, load_profile\n",
    "load_profile()\n",
    "\n",
    "from aiida_atomistic.data.structure import StructureData"
   ]
  },
  {
   "cell_type": "code",
   "execution_count": 2,
   "metadata": {},
   "outputs": [],
   "source": [
    "properties_dict = {\n",
    "    \"cell\":{\"value\":[[3.5, 0.0, 0.0], [0.0, 3.5, 0.0], [0.0, 0.0, 3.5]]},\n",
    "    \"pbc\":{\"value\":[True,True,True]},\n",
    "    \"positions\":{\"value\":[[0.0, 0.0, 0.0],[1.5, 1.5, 1.5]]},\n",
    "    \"symbols\":{\"value\":[\"Li\",\"Li\"]},\n",
    "    }"
   ]
  },
  {
   "cell_type": "markdown",
   "metadata": {},
   "source": [
    "where the value of each defined property is defined under the corresponding dictionary, under the key `value`. \n"
   ]
  },
  {
   "cell_type": "code",
   "execution_count": 3,
   "metadata": {},
   "outputs": [
    {
     "name": "stdout",
     "output_type": "stream",
     "text": [
      "The whole list of currently supported properties is: \n",
      "['kinds', 'symbols', 'pbc', 'custom', 'positions', 'mass', 'charge', 'cell']\n"
     ]
    }
   ],
   "source": [
    "print(f\"The whole list of currently supported properties is: \\n{StructureData().properties.get_supported_properties()}\")"
   ]
  },
  {
   "cell_type": "markdown",
   "metadata": {},
   "source": [
    "To initialise a StructureData node is then sufficient to do:"
   ]
  },
  {
   "cell_type": "code",
   "execution_count": 4,
   "metadata": {},
   "outputs": [
    {
     "data": {
      "text/plain": [
       "<StructureData: uuid: 46793b2c-77a2-4e07-b896-98def304e99e (unstored)>"
      ]
     },
     "execution_count": 4,
     "metadata": {},
     "output_type": "execute_result"
    }
   ],
   "source": [
    "structure = StructureData(properties = properties_dict)\n",
    "structure"
   ]
  },
  {
   "cell_type": "markdown",
   "metadata": {},
   "source": [
    "we can inspect the properties by accessing the corresponding attribute (tab completion is enabled):"
   ]
  },
  {
   "cell_type": "code",
   "execution_count": 5,
   "metadata": {},
   "outputs": [
    {
     "name": "stdout",
     "output_type": "stream",
     "text": [
      "The cell property class: \n",
      "parent=<StructureData: uuid: 46793b2c-77a2-4e07-b896-98def304e99e (unstored)> domain='global' value=[[3.5, 0.0, 0.0], [0.0, 3.5, 0.0], [0.0, 0.0, 3.5]]\n",
      "\n",
      "The cell property value: \n",
      "[[3.5, 0.0, 0.0], [0.0, 3.5, 0.0], [0.0, 0.0, 3.5]]\n",
      "\n",
      "The cell property domain: \n",
      "global\n",
      "\n"
     ]
    }
   ],
   "source": [
    "print(f\"The cell property class: \\n{structure.properties.cell}\\n\")\n",
    "print(f\"The cell property value: \\n{structure.properties.cell.value}\\n\")\n",
    "print(f\"The cell property domain: \\n{structure.properties.cell.domain}\\n\")"
   ]
  },
  {
   "cell_type": "code",
   "execution_count": 6,
   "metadata": {},
   "outputs": [
    {
     "name": "stdout",
     "output_type": "stream",
     "text": [
      "The positions property class: \n",
      "parent=<StructureData: uuid: 46793b2c-77a2-4e07-b896-98def304e99e (unstored)> domain='intra-site' value=[[0.0, 0.0, 0.0], [1.5, 1.5, 1.5]]\n",
      "\n",
      "The positions property value: \n",
      "[[0.0, 0.0, 0.0], [1.5, 1.5, 1.5]]\n",
      "\n",
      "The positions property domain: \n",
      "intra-site\n",
      "\n"
     ]
    }
   ],
   "source": [
    "print(f\"The positions property class: \\n{structure.properties.positions}\\n\")\n",
    "print(f\"The positions property value: \\n{structure.properties.positions.value}\\n\")\n",
    "print(f\"The positions property domain: \\n{structure.properties.positions.domain}\\n\")"
   ]
  },
  {
   "cell_type": "code",
   "execution_count": 7,
   "metadata": {},
   "outputs": [
    {
     "name": "stdout",
     "output_type": "stream",
     "text": [
      "Stored properties are: \n",
      "['kinds', 'symbols', 'pbc', 'positions', 'mass', 'cell']\n"
     ]
    }
   ],
   "source": [
    "print(f\"Stored properties are: \\n{structure.properties.get_stored_properties()}\")"
   ]
  },
  {
   "cell_type": "markdown",
   "metadata": {},
   "source": [
    "## StructureData as a data container - immutability\n",
    "\n",
    "We already anticipated that the StructureData is just a data container, .i.e. is immutable. This is a safety measure needed to \n",
    "avoid unpredicted behavior of a step-by-step data manipulation, which moreover may introduce incosistencies among the various properties.\n",
    "In this way, only an initial consistency check can be performed among the whole set of defined properties. \n",
    "\n",
    "The StructureData is a *read-only* type of Data."
   ]
  },
  {
   "cell_type": "code",
   "execution_count": 8,
   "metadata": {},
   "outputs": [
    {
     "ename": "ValidationError",
     "evalue": "1 validation error for Cell\nvalue\n  Instance is frozen [type=frozen_instance, input_value=[[1, 2, 3], [1, 2, 3], [1, 2, 3]], input_type=list]\n    For further information visit https://errors.pydantic.dev/2.6/v/frozen_instance",
     "output_type": "error",
     "traceback": [
      "\u001b[0;31m---------------------------------------------------------------------------\u001b[0m",
      "\u001b[0;31mValidationError\u001b[0m                           Traceback (most recent call last)",
      "Cell \u001b[0;32mIn[8], line 1\u001b[0m\n\u001b[0;32m----> 1\u001b[0m \u001b[43mstructure\u001b[49m\u001b[38;5;241;43m.\u001b[39;49m\u001b[43mproperties\u001b[49m\u001b[38;5;241;43m.\u001b[39;49m\u001b[43mcell\u001b[49m\u001b[38;5;241;43m.\u001b[39;49m\u001b[43mvalue\u001b[49m \u001b[38;5;241m=\u001b[39m [[\u001b[38;5;241m1\u001b[39m,\u001b[38;5;241m2\u001b[39m,\u001b[38;5;241m3\u001b[39m],[\u001b[38;5;241m1\u001b[39m,\u001b[38;5;241m2\u001b[39m,\u001b[38;5;241m3\u001b[39m],[\u001b[38;5;241m1\u001b[39m,\u001b[38;5;241m2\u001b[39m,\u001b[38;5;241m3\u001b[39m]]\n",
      "File \u001b[0;32m~/.aiida_venvs/atomistic/lib/python3.12/site-packages/pydantic/main.py:786\u001b[0m, in \u001b[0;36mBaseModel.__setattr__\u001b[0;34m(self, name, value)\u001b[0m\n\u001b[1;32m    783\u001b[0m             \u001b[38;5;28mself\u001b[39m\u001b[38;5;241m.\u001b[39m__pydantic_private__[name] \u001b[38;5;241m=\u001b[39m value\n\u001b[1;32m    784\u001b[0m     \u001b[38;5;28;01mreturn\u001b[39;00m\n\u001b[0;32m--> 786\u001b[0m \u001b[38;5;28;43mself\u001b[39;49m\u001b[38;5;241;43m.\u001b[39;49m\u001b[43m_check_frozen\u001b[49m\u001b[43m(\u001b[49m\u001b[43mname\u001b[49m\u001b[43m,\u001b[49m\u001b[43m \u001b[49m\u001b[43mvalue\u001b[49m\u001b[43m)\u001b[49m\n\u001b[1;32m    788\u001b[0m attr \u001b[38;5;241m=\u001b[39m \u001b[38;5;28mgetattr\u001b[39m(\u001b[38;5;28mself\u001b[39m\u001b[38;5;241m.\u001b[39m\u001b[38;5;18m__class__\u001b[39m, name, \u001b[38;5;28;01mNone\u001b[39;00m)\n\u001b[1;32m    789\u001b[0m \u001b[38;5;28;01mif\u001b[39;00m \u001b[38;5;28misinstance\u001b[39m(attr, \u001b[38;5;28mproperty\u001b[39m):\n",
      "File \u001b[0;32m~/.aiida_venvs/atomistic/lib/python3.12/site-packages/pydantic/main.py:850\u001b[0m, in \u001b[0;36mBaseModel._check_frozen\u001b[0;34m(self, name, value)\u001b[0m\n\u001b[1;32m    844\u001b[0m     \u001b[38;5;28;01mreturn\u001b[39;00m\n\u001b[1;32m    845\u001b[0m error: pydantic_core\u001b[38;5;241m.\u001b[39mInitErrorDetails \u001b[38;5;241m=\u001b[39m {\n\u001b[1;32m    846\u001b[0m     \u001b[38;5;124m'\u001b[39m\u001b[38;5;124mtype\u001b[39m\u001b[38;5;124m'\u001b[39m: typ,\n\u001b[1;32m    847\u001b[0m     \u001b[38;5;124m'\u001b[39m\u001b[38;5;124mloc\u001b[39m\u001b[38;5;124m'\u001b[39m: (name,),\n\u001b[1;32m    848\u001b[0m     \u001b[38;5;124m'\u001b[39m\u001b[38;5;124minput\u001b[39m\u001b[38;5;124m'\u001b[39m: value,\n\u001b[1;32m    849\u001b[0m }\n\u001b[0;32m--> 850\u001b[0m \u001b[38;5;28;01mraise\u001b[39;00m pydantic_core\u001b[38;5;241m.\u001b[39mValidationError\u001b[38;5;241m.\u001b[39mfrom_exception_data(\u001b[38;5;28mself\u001b[39m\u001b[38;5;241m.\u001b[39m\u001b[38;5;18m__class__\u001b[39m\u001b[38;5;241m.\u001b[39m\u001b[38;5;18m__name__\u001b[39m, [error])\n",
      "\u001b[0;31mValidationError\u001b[0m: 1 validation error for Cell\nvalue\n  Instance is frozen [type=frozen_instance, input_value=[[1, 2, 3], [1, 2, 3], [1, 2, 3]], input_type=list]\n    For further information visit https://errors.pydantic.dev/2.6/v/frozen_instance"
     ]
    }
   ],
   "source": [
    "structure.properties.cell.value = [[1,2,3],[1,2,3],[1,2,3]]"
   ]
  },
  {
   "cell_type": "code",
   "execution_count": 9,
   "metadata": {},
   "outputs": [
    {
     "ename": "AttributeError",
     "evalue": "property of 'PropertyCollector' object has no setter",
     "output_type": "error",
     "traceback": [
      "\u001b[0;31m---------------------------------------------------------------------------\u001b[0m",
      "\u001b[0;31mAttributeError\u001b[0m                            Traceback (most recent call last)",
      "Cell \u001b[0;32mIn[9], line 1\u001b[0m\n\u001b[0;32m----> 1\u001b[0m \u001b[43mstructure\u001b[49m\u001b[38;5;241;43m.\u001b[39;49m\u001b[43mproperties\u001b[49m\u001b[38;5;241;43m.\u001b[39;49m\u001b[43mcell\u001b[49m \u001b[38;5;241m=\u001b[39m [[\u001b[38;5;241m1\u001b[39m,\u001b[38;5;241m2\u001b[39m,\u001b[38;5;241m3\u001b[39m],[\u001b[38;5;241m1\u001b[39m,\u001b[38;5;241m2\u001b[39m,\u001b[38;5;241m3\u001b[39m],[\u001b[38;5;241m1\u001b[39m,\u001b[38;5;241m2\u001b[39m,\u001b[38;5;241m3\u001b[39m]]\n",
      "\u001b[0;31mAttributeError\u001b[0m: property of 'PropertyCollector' object has no setter"
     ]
    }
   ],
   "source": [
    "structure.properties.cell = [[1,2,3],[1,2,3],[1,2,3]]"
   ]
  },
  {
   "cell_type": "markdown",
   "metadata": {},
   "source": [
    "### The  `to_dict()` method\n",
    "\n",
    "A crucial aspect of the new `StructureData` is that it is immutable even if the node is not stored, i.e. the API does not support on-the-fly or interactive modifications (it will raise errors). This helps in avoiding unexpected \n",
    "behaviour coming from a step-by-step defintion of the structure, e.g. incosistencies between properties definitions, which are then not cross-checked again.\n",
    "\n",
    "One has to define a new `StructureData` instance by scratch.\n",
    "To make user life simpler, we provide a `to_dict` method, which can be used to generate the properties dictionary:"
   ]
  },
  {
   "cell_type": "code",
   "execution_count": 10,
   "metadata": {},
   "outputs": [
    {
     "data": {
      "text/plain": [
       "{'cell': {'value': [[3.5, 0.0, 0.0], [0.0, 3.5, 0.0], [0.0, 0.0, 3.5]]},\n",
       " 'pbc': {'value': [True, True, True]},\n",
       " 'positions': {'value': [[0.0, 0.0, 0.0], [1.5, 1.5, 1.5]]},\n",
       " 'symbols': {'value': ['Li', 'Li']},\n",
       " 'mass': {'value': [6.941, 6.941]},\n",
       " 'kinds': {'value': ['Li0', 'Li0']}}"
      ]
     },
     "execution_count": 10,
     "metadata": {},
     "output_type": "execute_result"
    }
   ],
   "source": [
    "structure.to_dict()"
   ]
  },
  {
   "cell_type": "markdown",
   "metadata": {},
   "source": [
    "Here below and example where we want to change the dimensionality of the structure: we elongate the cell along Z and we fix the pbc property consistently."
   ]
  },
  {
   "cell_type": "markdown",
   "metadata": {},
   "source": [
    "## The `get_kinds()` method\n",
    "\n",
    "It is possible to get a list of kinds using the `get_kinds` method. \n",
    "This will generate the corresponding predicted kinds for all the properties (the \"intra-site\" ones) \n",
    "and then generate the list of global different kinds. \n",
    "The default threshold used for each property can be found under the attribute ``\n",
    "\n",
    "This method should be used in the plugins which requires a kind-based definition of properties, e.g. the aiida-quantumespresso one."
   ]
  },
  {
   "cell_type": "code",
   "execution_count": 11,
   "metadata": {},
   "outputs": [
    {
     "name": "stdout",
     "output_type": "stream",
     "text": [
      "The cell property value: \n",
      "[[3.5, 0.0, 0.0], [0.0, 3.5, 0.0], [0.0, 0.0, 15.0]]\n",
      "\n"
     ]
    }
   ],
   "source": [
    "new_properties_dict = structure.to_dict()\n",
    "new_properties_dict[\"pbc\"] = {\"value\":[True,True,False]}\n",
    "new_properties_dict[\"cell\"][\"value\"][2] = [0,0,15]\n",
    "\n",
    "new_structure = StructureData(properties=new_properties_dict)\n",
    "\n",
    "print(f\"The cell property value: \\n{new_structure.properties.cell.value}\\n\")"
   ]
  },
  {
   "cell_type": "code",
   "execution_count": 12,
   "metadata": {},
   "outputs": [
    {
     "name": "stdout",
     "output_type": "stream",
     "text": [
      "{'kinds': {'value': ['Li0', 'Li1']}, 'mass': {'value': [6.941, 6.941]}, 'charge': {'value': [1.0, 0.0]}}\n"
     ]
    }
   ],
   "source": [
    "unit_cell = [[3.5, 0.0, 0.0], [0.0, 3.5, 0.0], [0.0, 0.0, 3.5]]\n",
    "atomic_positions = [[0.0, 0.0, 0.0],[1.5, 1.5, 1.5]]\n",
    "symbols = [\"Li\"]*2\n",
    "mass = [6.941,6.941]\n",
    "charge = [1,0]\n",
    "\n",
    "properties = {\n",
    "    \"cell\":{\"value\":unit_cell},\n",
    "    \"pbc\":{\"value\":[True,True,True]},\n",
    "    \"positions\":{\"value\":atomic_positions,},\n",
    "    \"symbols\":{\"value\":symbols},\n",
    "    \"mass\":{\"value\":mass,},\n",
    "    \"charge\":{\"value\":charge}\n",
    "    }\n",
    "\n",
    "structure = StructureData(\n",
    "        properties=properties\n",
    "        )\n",
    "kinds = structure.get_kinds()\n",
    "\n",
    "print(kinds)"
   ]
  },
  {
   "cell_type": "markdown",
   "metadata": {},
   "source": [
    "Up to now, the kind labels are not ordered from zero, i.e. we may have a label \"Li1\" even if there is only one kind (but more than one symbol).\n",
    "This should be fixed soon, but does not have an impact on the usefulness of the method. \n",
    "\n",
    "#### Specification of default threshold for the kinds\n",
    "\n",
    "It is possible to specify a custom threshold for a given property, if needed.\n",
    "See the following example:"
   ]
  },
  {
   "cell_type": "code",
   "execution_count": 13,
   "metadata": {},
   "outputs": [
    {
     "data": {
      "text/plain": [
       "0.1"
      ]
     },
     "execution_count": 13,
     "metadata": {},
     "output_type": "execute_result"
    }
   ],
   "source": [
    "structure.properties.charge.default_kind_threshold"
   ]
  },
  {
   "cell_type": "code",
   "execution_count": 14,
   "metadata": {},
   "outputs": [
    {
     "name": "stdout",
     "output_type": "stream",
     "text": [
      "{'kinds': {'value': ['Li0', 'Li0']}, 'mass': {'value': [6.941, 6.941]}, 'charge': {'value': [0.0, 0.0]}}\n"
     ]
    }
   ],
   "source": [
    "kinds = structure.get_kinds(custom_thr={\"charge\":2})\n",
    "\n",
    "print(kinds)"
   ]
  },
  {
   "cell_type": "markdown",
   "metadata": {},
   "source": [
    "#### Specification of `kind_tags`\n",
    "\n",
    "We can assign tags to each atom, in such a way to override results of the `get_kinds` method. If we define a tag for \n",
    "each atom of the structure, the method will return unchanged value of the properties\n",
    "with the desired tags."
   ]
  },
  {
   "cell_type": "code",
   "execution_count": 15,
   "metadata": {},
   "outputs": [
    {
     "name": "stdout",
     "output_type": "stream",
     "text": [
      "{'kinds': {'value': ['Li1', 'Li2']}, 'mass': {'value': [6.941, 6.941]}, 'charge': {'value': [1.0, 0.0]}}\n"
     ]
    }
   ],
   "source": [
    "kinds = structure.get_kinds(kind_tags=[\"Li1\",\"Li2\"])\n",
    "\n",
    "print(kinds)"
   ]
  },
  {
   "cell_type": "markdown",
   "metadata": {},
   "source": [
    "It is possible also to exclude one property, when we determine kinds (maybe we ignore it in the plugin):"
   ]
  },
  {
   "cell_type": "code",
   "execution_count": 16,
   "metadata": {},
   "outputs": [
    {
     "name": "stdout",
     "output_type": "stream",
     "text": [
      "kinds\n",
      "mass\n"
     ]
    }
   ],
   "source": [
    "kinds, kinds_values = structure.get_kinds(exclude=[\"charge\"])\n",
    "\n",
    "print(kinds)\n",
    "print(kinds_values)"
   ]
  },
  {
   "cell_type": "markdown",
   "metadata": {},
   "source": [
    "It is possible to combine the `to_dict` and the `get_kinds` methods, in such a way to have a ready-to-use dictionary with also the kinds, automatically generated:"
   ]
  },
  {
   "cell_type": "code",
   "execution_count": 17,
   "metadata": {},
   "outputs": [
    {
     "data": {
      "text/plain": [
       "{'cell': {'value': [[3.5, 0.0, 0.0], [0.0, 3.5, 0.0], [0.0, 0.0, 3.5]]},\n",
       " 'pbc': {'value': [True, True, True]},\n",
       " 'positions': {'value': [[0.0, 0.0, 0.0], [1.5, 1.5, 1.5]]},\n",
       " 'symbols': {'value': ['Li', 'Li']},\n",
       " 'mass': {'value': [6.941, 6.941]},\n",
       " 'charge': {'value': [0.0, 0.0]},\n",
       " 'kinds': {'value': ['Li0', 'Li0']}}"
      ]
     },
     "execution_count": 17,
     "metadata": {},
     "output_type": "execute_result"
    }
   ],
   "source": [
    "new_properties = structure.to_dict(generate_kinds= True, kinds_exclude=['mass'],kinds_thresholds={\"charge\":1.5})\n",
    "new_properties"
   ]
  },
  {
   "cell_type": "code",
   "execution_count": 18,
   "metadata": {},
   "outputs": [],
   "source": [
    "structure_with_kinds = StructureData(properties=new_properties)"
   ]
  },
  {
   "cell_type": "code",
   "execution_count": 19,
   "metadata": {},
   "outputs": [
    {
     "data": {
      "text/plain": [
       "Kinds(parent=<StructureData: uuid: 8197a2fa-07d0-4bf0-8839-53def3899fb6 (unstored)>, domain='intra-site', value=['Li0', 'Li0'])"
      ]
     },
     "execution_count": 19,
     "metadata": {},
     "output_type": "execute_result"
    }
   ],
   "source": [
    "structure_with_kinds.properties.kinds"
   ]
  },
  {
   "cell_type": "markdown",
   "metadata": {},
   "source": [
    "## Store and load again."
   ]
  },
  {
   "cell_type": "code",
   "execution_count": 20,
   "metadata": {},
   "outputs": [
    {
     "data": {
      "text/plain": [
       "<StructureData: uuid: 8197a2fa-07d0-4bf0-8839-53def3899fb6 (pk: 1)>"
      ]
     },
     "execution_count": 20,
     "metadata": {},
     "output_type": "execute_result"
    }
   ],
   "source": [
    "structure_with_kinds.store()"
   ]
  },
  {
   "cell_type": "code",
   "execution_count": 21,
   "metadata": {},
   "outputs": [],
   "source": [
    "loaded_structure_kinds = orm.load_node(structure_with_kinds.pk)"
   ]
  },
  {
   "cell_type": "code",
   "execution_count": 22,
   "metadata": {},
   "outputs": [
    {
     "data": {
      "text/plain": [
       "Kinds(parent=<StructureData: uuid: 8197a2fa-07d0-4bf0-8839-53def3899fb6 (pk: 1)>, domain='intra-site', value=['Li0', 'Li0'])"
      ]
     },
     "execution_count": 22,
     "metadata": {},
     "output_type": "execute_result"
    }
   ],
   "source": [
    "loaded_structure_kinds.properties.kinds"
   ]
  },
  {
   "cell_type": "code",
   "execution_count": null,
   "metadata": {},
   "outputs": [],
   "source": []
  }
 ],
 "metadata": {
  "kernelspec": {
   "display_name": "aiida-muonic",
   "language": "python",
   "name": "python3"
  },
  "language_info": {
   "codemirror_mode": {
    "name": "ipython",
    "version": 3
   },
   "file_extension": ".py",
   "mimetype": "text/x-python",
   "name": "python",
   "nbconvert_exporter": "python",
   "pygments_lexer": "ipython3",
   "version": "3.12.2"
  }
 },
 "nbformat": 4,
 "nbformat_minor": 2
}
