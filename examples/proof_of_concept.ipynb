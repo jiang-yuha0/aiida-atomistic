{
 "cells": [
  {
   "cell_type": "markdown",
   "id": "2e6c3fdb",
   "metadata": {},
   "source": [
    "# The new `StructureData` API"
   ]
  },
  {
   "cell_type": "markdown",
   "id": "e1173c2e",
   "metadata": {},
   "source": [
    "# The `atomistic.StructureData` and `atomistic.StructureDataMutable` classes"
   ]
  },
  {
   "cell_type": "markdown",
   "id": "a5a22af6",
   "metadata": {
    "lines_to_next_cell": 2
   },
   "source": [
    "Two main rules: (i) immutability, and (ii) site-based. This means that our node will be just a container of the crystal structure + properties, and it cannot really be modified in any way.\n",
    "We will only provide `from_*`, `get_*` and `to_*` methods. Each site property will be defined as site-based and not kind-based, at variance with the old `orm.StructureData`. Kinds now can be defined as a property of each site (`kind_name`).\n",
    "The idea is to provide another python class which is just the mutable version of the `atomistic.StructureData` used to build, manipulate the crystal structure before the effective AiiDA node initialization. For now, let's call this class `StructureDataMutable`. This two classes have the same data structure, i.e. the same `properties` and the same `from_*`, `get_*` and `to_*` methods. The only difference is that the `atomistic.StructureDataMutable` has also `set_*` methods which can be used to mutate the properties. **Rule**: no property can be modified directly (i.e. accessing it); this is useful to avoid the introduction of inconsistencies in the structure instance."
   ]
  },
  {
   "cell_type": "markdown",
   "id": "113769a0",
   "metadata": {},
   "source": [
    "# How to initialize the `StructureData`(s)"
   ]
  },
  {
   "cell_type": "markdown",
   "id": "578596c8",
   "metadata": {},
   "source": [
    "As both `StructureData` and `StructureDataMutable` share the same data structure, they also share the same constructor input parameter, which is just a python dictionary. The format of this dictionary exactly reflects how the data are store in the AiiDA database:"
   ]
  },
  {
   "cell_type": "code",
   "execution_count": 1,
   "id": "6d343305",
   "metadata": {},
   "outputs": [],
   "source": [
    "from aiida_atomistic.data.structure.core import StructureData\n",
    "from aiida_atomistic.data.structure.mutable import StructureDataMutable\n",
    "\n",
    "from aiida import load_profile\n",
    "load_profile()\n",
    "\n",
    "structure_dict = {\n",
    "    'cell':[[2.75,2.75,0],[0,2.75,2.75],[2.75,0,2.75]],\n",
    "    'pbc': [True,True,True],\n",
    "    'sites':[\n",
    "        {\n",
    "            'symbol':'Si',\n",
    "            'position':[3/4, 3/4, 3/4],\n",
    "        },\n",
    "        {\n",
    "            'symbol':'Si',\n",
    "            'position':[1/2, 1/2, 1/2],\n",
    "        },\n",
    "    ],\n",
    "}\n",
    "\n",
    "mutable_structure = StructureDataMutable(**structure_dict)\n",
    "structure = StructureData(**structure_dict)"
   ]
  },
  {
   "cell_type": "markdown",
   "id": "4a1dffce",
   "metadata": {},
   "source": [
    "When this dictionary is provided to the constructor, validation check for each of the provided property is done (**for now, only pbc and cell**).\n",
    "Then, you can access the properties directly:"
   ]
  },
  {
   "cell_type": "code",
   "execution_count": 2,
   "id": "b2e81a11",
   "metadata": {},
   "outputs": [
    {
     "name": "stdout",
     "output_type": "stream",
     "text": [
      "immutable pbc:  [ True  True  True]\n",
      "mutable pbc:  [ True  True  True]\n",
      "immutable cell:  [[2.75 2.75 0.  ]\n",
      " [0.   2.75 2.75]\n",
      " [2.75 0.   2.75]]\n",
      "mutable cell:  [[2.75 2.75 0.  ]\n",
      " [0.   2.75 2.75]\n",
      " [2.75 0.   2.75]]\n",
      "immutable sites:  [<Site: kind name 'Si' @ 0.75,0.75,0.75>, <Site: kind name 'Si' @ 0.5,0.5,0.5>]\n",
      "mutable sites:  [<Site: kind name 'Si' @ 0.75,0.75,0.75>, <Site: kind name 'Si' @ 0.5,0.5,0.5>]\n"
     ]
    }
   ],
   "source": [
    "print(\"immutable pbc: \", structure.pbc)\n",
    "print(\"mutable pbc: \", structure.pbc)\n",
    "\n",
    "print(\"immutable cell: \", structure.cell)\n",
    "print(\"mutable cell: \", structure.cell)\n",
    "\n",
    "print(\"immutable sites: \", structure.sites)\n",
    "print(\"mutable sites: \", structure.sites)"
   ]
  },
  {
   "cell_type": "markdown",
   "id": "f6b09e89",
   "metadata": {},
   "source": [
    "the expected output is:\n",
    "\n",
    "immutable pbc:  [ True  True  True]\n",
    "\n",
    "mutable pbc:  [ True  True  True]\n",
    "\n",
    "immutable cell:  [[2.75 2.75 0.  ]\n",
    " [0.   2.75 2.75]\n",
    " [2.75 0.   2.75]]\n",
    " \n",
    "mutable cell:  [[2.75 2.75 0.  ]\n",
    " [0.   2.75 2.75]\n",
    " [2.75 0.   2.75]]\n",
    " \n",
    "immutable sites:  [<Site: kind name 'Si' @ 0.75,0.75,0.75>, <Site: kind name 'Si' @ 0.5,0.5,0.5>]\n",
    "\n",
    "mutable sites:  [<Site: kind name 'Si' @ 0.75,0.75,0.75>, <Site: kind name 'Si' @ 0.5,0.5,0.5>]"
   ]
  },
  {
   "cell_type": "markdown",
   "id": "60dc7b40",
   "metadata": {},
   "source": [
    "To inspect the properties of a single site, we can access it:"
   ]
  },
  {
   "cell_type": "code",
   "execution_count": 3,
   "id": "63a319ff",
   "metadata": {},
   "outputs": [
    {
     "name": "stdout",
     "output_type": "stream",
     "text": [
      "Si [0.75 0.75 0.75]\n"
     ]
    }
   ],
   "source": [
    "print(structure.sites[0].symbol,structure.sites[0].position) # output: Si [0.75 0.75 0.75]"
   ]
  },
  {
   "cell_type": "markdown",
   "id": "70e0184e",
   "metadata": {},
   "source": [
    "All the properties can be accessed via tab completion, and a list of the supported properties can be accessed via `structure.get_property_names()`.\n",
    "For now, other supported properties are `charge` (not yet `tot_charge`), `kind_name`, `mass`.\n",
    "For example, we can initialize a charged structure in this way:"
   ]
  },
  {
   "cell_type": "code",
   "execution_count": 4,
   "id": "1a15e6d3",
   "metadata": {},
   "outputs": [],
   "source": [
    "structure_dict = {\n",
    "    'cell':[[2.75,2.75,0],[0,2.75,2.75],[2.75,0,2.75]],\n",
    "    'pbc': [True,True,True],\n",
    "    'sites':[\n",
    "        {\n",
    "            'symbol':'Si',\n",
    "            'position':[3/4, 3/4, 3/4],\n",
    "            'charge': +1,\n",
    "            'kind_name': 'Si2',\n",
    "        },\n",
    "        {\n",
    "            'symbol':'Si',\n",
    "            'position':[1/2, 1/2, 1/2],\n",
    "            'kind_name': 'Si1',\n",
    "        },\n",
    "    ],\n",
    "}\n",
    "\n",
    "mutable_structure = StructureDataMutable(**structure_dict)\n",
    "structure = StructureData(**structure_dict)"
   ]
  },
  {
   "cell_type": "markdown",
   "id": "8512ab4b",
   "metadata": {},
   "source": [
    "then, `structure.sites[0].charge` will be equal to 1. When the plugins will be adapted, with this information we can build the correct input file for the corresponding quantum engine."
   ]
  },
  {
   "cell_type": "markdown",
   "id": "676d82e8",
   "metadata": {},
   "source": [
    "## Initialization from ASE or Pymatgen"
   ]
  },
  {
   "cell_type": "markdown",
   "id": "cc2e9e11",
   "metadata": {},
   "source": [
    "If we already have an ASE Atoms or a Pymatgen Structure object, we can use the `from_ase` and `from_pymatgen` methods:"
   ]
  },
  {
   "cell_type": "code",
   "execution_count": 5,
   "id": "14a67fdc",
   "metadata": {},
   "outputs": [
    {
     "data": {
      "text/plain": [
       "{'pbc': (True, True, True),\n",
       " 'cell': [[0.0, 1.8, 1.8], [1.8, 0.0, 1.8], [1.8, 1.8, 0.0]],\n",
       " 'sites': [{'symbol': 'Cu',\n",
       "   'kind_name': 'Cu2',\n",
       "   'position': [0.0, 0.0, 0.0],\n",
       "   'mass': 63.546,\n",
       "   'charge': 1.0,\n",
       "   'magmom': [0.0, 0, 0]}]}"
      ]
     },
     "execution_count": 5,
     "metadata": {},
     "output_type": "execute_result"
    }
   ],
   "source": [
    "from ase.build import bulk\n",
    "atoms = bulk('Cu', 'fcc', a=3.6)\n",
    "atoms.set_initial_charges([1,])\n",
    "atoms.set_tags([\"2\"])\n",
    "\n",
    "mutable_structure = StructureDataMutable.from_ase(atoms)\n",
    "structure = StructureData.from_ase(atoms)\n",
    "\n",
    "structure.to_dict()"
   ]
  },
  {
   "cell_type": "markdown",
   "id": "d15114c1",
   "metadata": {},
   "source": [
    "This should have as output:\n",
    "\n",
    "{'pbc': (True, True, True),\n",
    " 'cell': [[0.0, 1.8, 1.8], [1.8, 0.0, 1.8], [1.8, 1.8, 0.0]],\n",
    " 'sites': [{'symbol': 'Cu',\n",
    "   'kind_name': 'Cu2',\n",
    "   'position': [0.0, 0.0, 0.0],\n",
    "   'mass': 63.546,\n",
    "   'charge': 1.0,\n",
    "   'magmom': 0.0}]}\n",
    "\n",
    "This support also the properties like charges (coming soon: magmoms and so on). In the same way, for pymatgen we can proceed as follows:"
   ]
  },
  {
   "cell_type": "code",
   "execution_count": 6,
   "id": "3a5255df",
   "metadata": {},
   "outputs": [
    {
     "data": {
      "text/plain": [
       "{'pbc': (True, True, True),\n",
       " 'cell': [[3.84, 0.0, 2.351321854362918e-16],\n",
       "  [1.92, 2.7152900397563426, -1.919999999999999],\n",
       "  [0.0, 0.0, 3.84]],\n",
       " 'sites': [{'symbol': 'Si',\n",
       "   'weights': 28.0855,\n",
       "   'position': [0.0, 0.0, 0.0],\n",
       "   'charge': 1,\n",
       "   'kind_name': 'Si'},\n",
       "  {'symbol': 'Si',\n",
       "   'weights': 28.0855,\n",
       "   'position': [3.84, 1.3576450198781713, 1.9200000000000006],\n",
       "   'charge': 0,\n",
       "   'kind_name': 'Si0'}]}"
      ]
     },
     "execution_count": 6,
     "metadata": {},
     "output_type": "execute_result"
    }
   ],
   "source": [
    "from pymatgen.core import Lattice, Structure, Molecule\n",
    "\n",
    "coords = [[0, 0, 0], [0.75,0.5,0.75]]\n",
    "lattice = Lattice.from_parameters(a=3.84, b=3.84, c=3.84, alpha=120,\n",
    "                                  beta=90, gamma=60)\n",
    "struct = Structure(lattice, [\"Si\", \"Si\"], coords)\n",
    "\n",
    "struct.add_oxidation_state_by_site([1,0])\n",
    "\n",
    "mutable_structure = StructureDataMutable.from_pymatgen(struct)\n",
    "\n",
    "mutable_structure.to_dict()"
   ]
  },
  {
   "cell_type": "markdown",
   "id": "2f7c09dd",
   "metadata": {},
   "source": [
    "the output being:"
   ]
  },
  {
   "cell_type": "code",
   "execution_count": 7,
   "id": "2e562239",
   "metadata": {},
   "outputs": [
    {
     "data": {
      "text/plain": [
       "{'pbc': (True, True, True),\n",
       " 'cell': [[3.84, 0.0, 2.351321854362918e-16],\n",
       "  [1.92, 2.7152900397563426, -1.919999999999999],\n",
       "  [0.0, 0.0, 3.84]],\n",
       " 'sites': [{'symbol': 'Si',\n",
       "   'weights': 28.0855,\n",
       "   'position': [0.0, 0.0, 0.0],\n",
       "   'charge': 1,\n",
       "   'kind_name': 'Si'},\n",
       "  {'symbol': 'Si',\n",
       "   'weights': 28.0855,\n",
       "   'position': [3.84, 1.3576450198781713, 1.9200000000000006],\n",
       "   'charge': 0,\n",
       "   'kind_name': 'Si0'}]}"
      ]
     },
     "execution_count": 7,
     "metadata": {},
     "output_type": "execute_result"
    }
   ],
   "source": [
    "{'pbc': (True, True, True),\n",
    " 'cell': [[3.84, 0.0, 2.351321854362918e-16],\n",
    "  [1.92, 2.7152900397563426, -1.919999999999999],\n",
    "  [0.0, 0.0, 3.84]],\n",
    " 'sites': [{'symbol': 'Si',\n",
    "   'weights': 28.0855,\n",
    "   'position': [0.0, 0.0, 0.0],\n",
    "   'charge': 1,\n",
    "   'kind_name': 'Si'},\n",
    "  {'symbol': 'Si',\n",
    "   'weights': 28.0855,\n",
    "   'position': [3.84, 1.3576450198781713, 1.9200000000000006],\n",
    "   'charge': 0,\n",
    "   'kind_name': 'Si0'}]}"
   ]
  },
  {
   "cell_type": "markdown",
   "id": "84f78415",
   "metadata": {},
   "source": [
    "Moreover, we also provide `to_ase` and `to_pymatgen` methods to obtain the corresponding instances. Also this methods for now only support charges, among the new properties."
   ]
  },
  {
   "cell_type": "markdown",
   "id": "47b9109f",
   "metadata": {},
   "source": [
    "# Mutation of a structure"
   ]
  },
  {
   "cell_type": "markdown",
   "id": "cad6dd6a",
   "metadata": {},
   "source": [
    "Let's suppose you want to update some property in the `StructureData` before to use it in a calculation. You cannot. The way to go is either to use ASE or Pymatgen to modify you object and store it back into `StructureData`, or to use the `StructureDataMutable` and its mutation methods, and then convert it into `StructureData`.\n",
    "The latter method is the preferred one, as you then have support also for additional properties (to be implemented) like hubbard, which is not supported by the former.\n",
    "`StructureDataMutable` contains several `set_` methods and more, needed to update a structure:"
   ]
  },
  {
   "cell_type": "code",
   "execution_count": 8,
   "id": "0270f062-0eda-4db9-9f66-5e1d7f4a8525",
   "metadata": {},
   "outputs": [
    {
     "data": {
      "text/plain": [
       "<StructureData: uuid: 836d320a-8369-43b1-9d2a-33c114f28ebc (pk: 5)>"
      ]
     },
     "execution_count": 8,
     "metadata": {},
     "output_type": "execute_result"
    }
   ],
   "source": [
    "old_structure = structure\n",
    "old_structure.store()"
   ]
  },
  {
   "cell_type": "code",
   "execution_count": 9,
   "id": "1ae9cd1e",
   "metadata": {},
   "outputs": [],
   "source": [
    "from aiida import orm\n",
    "structure = orm.load_node(old_structure.pk)\n",
    "\n",
    "mutable_structure = structure.to_mutable_structuredata()\n",
    "mutable_structure.set_charges([1])\n",
    "mutable_structure.set_kind_names(['Si2'])\n",
    "\n",
    "new_structure = mutable_structure.to_structuredata()"
   ]
  },
  {
   "cell_type": "markdown",
   "id": "d873328e",
   "metadata": {},
   "source": [
    "Other available methods are `add_atom`, `pop_atom`, `update_site` and so on.\n",
    "Indeed, we can also start from scratch:"
   ]
  },
  {
   "cell_type": "code",
   "execution_count": 10,
   "id": "7c696f7b",
   "metadata": {
    "lines_to_next_cell": 2
   },
   "outputs": [],
   "source": [
    "mutable_structure = StructureDataMutable()\n",
    "mutable_structure.set_cell([[0.0, 1.8, 1.8], [1.8, 0.0, 1.8], [1.8, 1.8, 0.0]])\n",
    "mutable_structure.add_atom({\n",
    "            'symbol':'Si',\n",
    "            'position':[3/4, 3/4, 3/4],\n",
    "            'charge': 1,\n",
    "            'kind_name': 'Si2'\n",
    "        })\n",
    "\n",
    "mutable_structure.add_atom({\n",
    "            'symbol':'Si',\n",
    "            'position':[1/2, 1/2, 1/2],\n",
    "            'charge': 0,\n",
    "            'kind_name': 'Si1'\n",
    "        })"
   ]
  },
  {
   "cell_type": "markdown",
   "id": "ae34be40",
   "metadata": {},
   "source": [
    "# Slicing a structure"
   ]
  },
  {
   "cell_type": "markdown",
   "id": "88e0136a",
   "metadata": {},
   "source": [
    "It is possible to *slice* a structure, i.e. returning only a part of it (in terms of sites). Let's that you have an heterostructure and you want to obtain only the first layer, composed of the first 4 atoms over 10 total. This works for both `StructureDataMutable` and `StructureData` (we return a new `StructureData` instance)."
   ]
  },
  {
   "cell_type": "code",
   "execution_count": 11,
   "id": "5c733eaa",
   "metadata": {},
   "outputs": [],
   "source": [
    "sliced_structure = structure[:4]"
   ]
  },
  {
   "cell_type": "markdown",
   "id": "fccb441f",
   "metadata": {},
   "source": [
    "# Backward compatibility support"
   ]
  },
  {
   "cell_type": "markdown",
   "id": "646ecb1c",
   "metadata": {},
   "source": [
    "We can use the `to_legacy` method to return the corresponding `orm.StructureData` instance, in case a given plugin does not yet support the new `StructureData`."
   ]
  }
 ],
 "metadata": {
  "jupytext": {
   "cell_metadata_filter": "-all",
   "main_language": "python",
   "notebook_metadata_filter": "-all"
  },
  "kernelspec": {
   "display_name": "Python 3 (ipykernel)",
   "language": "python",
   "name": "python3"
  },
  "language_info": {
   "codemirror_mode": {
    "name": "ipython",
    "version": 3
   },
   "file_extension": ".py",
   "mimetype": "text/x-python",
   "name": "python",
   "nbconvert_exporter": "python",
   "pygments_lexer": "ipython3",
   "version": "3.11.9"
  }
 },
 "nbformat": 4,
 "nbformat_minor": 5
}
